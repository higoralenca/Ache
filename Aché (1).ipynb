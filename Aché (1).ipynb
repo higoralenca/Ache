{
 "cells": [
  {
   "cell_type": "code",
   "execution_count": 1,
   "id": "723de036",
   "metadata": {},
   "outputs": [
    {
     "data": {
      "image/jpeg": "[encoded data removed]",
      "text/plain": [
       "<IPython.core.display.Image object>"
      ]
     },
     "metadata": {},
     "output_type": "display_data"
    }
   ],
   "source": [
    "from IPython.display import Image, display\n",
    "display(Image(filename=\"Ache.jpeg\"))"
   ]
  },
  {
   "cell_type": "code",
   "execution_count": 1,
   "id": "3ea3c5bb",
   "metadata": {},
   "outputs": [],
   "source": [
    "import pandas as pd\n",
    "import numpy as np\n",
    "import matplotlib.pyplot as plt\n",
    "import seaborn as sns"
   ]
  },
  {
   "cell_type": "markdown",
   "id": "7f812bef",
   "metadata": {},
   "source": [
    "# Finanças 2015"
   ]
  },
  {
   "cell_type": "code",
   "execution_count": 2,
   "id": "d2d6fe90",
   "metadata": {},
   "outputs": [
    {
     "data": {
      "text/html": [
       "<div>\n",
       "<style scoped>\n",
       "    .dataframe tbody tr th:only-of-type {\n",
       "        vertical-align: middle;\n",
       "    }\n",
       "\n",
       "    .dataframe tbody tr th {\n",
       "        vertical-align: top;\n",
       "    }\n",
       "\n",
       "    .dataframe thead th {\n",
       "        text-align: right;\n",
       "    }\n",
       "</style>\n",
       "<table border=\"1\" class=\"dataframe\">\n",
       "  <thead>\n",
       "    <tr style=\"text-align: right;\">\n",
       "      <th></th>\n",
       "      <th>-</th>\n",
       "      <th>2015</th>\n",
       "    </tr>\n",
       "  </thead>\n",
       "  <tbody>\n",
       "    <tr>\n",
       "      <th>0</th>\n",
       "      <td>Receita Líquida</td>\n",
       "      <td>2.332,9</td>\n",
       "    </tr>\n",
       "    <tr>\n",
       "      <th>1</th>\n",
       "      <td>Lucro Bruto</td>\n",
       "      <td>1.706,2</td>\n",
       "    </tr>\n",
       "    <tr>\n",
       "      <th>2</th>\n",
       "      <td>Lucro Líquido</td>\n",
       "      <td>472,8</td>\n",
       "    </tr>\n",
       "    <tr>\n",
       "      <th>3</th>\n",
       "      <td>EBITDA</td>\n",
       "      <td>681,9</td>\n",
       "    </tr>\n",
       "    <tr>\n",
       "      <th>4</th>\n",
       "      <td>EBITDA AJUSTADO</td>\n",
       "      <td>716,3</td>\n",
       "    </tr>\n",
       "  </tbody>\n",
       "</table>\n",
       "</div>"
      ],
      "text/plain": [
       "                 -     2015\n",
       "0  Receita Líquida  2.332,9\n",
       "1      Lucro Bruto  1.706,2\n",
       "2    Lucro Líquido    472,8\n",
       "3           EBITDA    681,9\n",
       "4  EBITDA AJUSTADO    716,3"
      ]
     },
     "metadata": {},
     "output_type": "display_data"
    }
   ],
   "source": [
    "tabela_Finanças2015 = pd.read_excel(\"Aché 2015.xlsx\")\n",
    "display(tabela_Finanças2015)"
   ]
  },
  {
   "cell_type": "markdown",
   "id": "b7fd0d9a",
   "metadata": {},
   "source": [
    "# Finanças 2016"
   ]
  },
  {
   "cell_type": "code",
   "execution_count": 3,
   "id": "a4534813",
   "metadata": {},
   "outputs": [
    {
     "data": {
      "text/html": [
       "<div>\n",
       "<style scoped>\n",
       "    .dataframe tbody tr th:only-of-type {\n",
       "        vertical-align: middle;\n",
       "    }\n",
       "\n",
       "    .dataframe tbody tr th {\n",
       "        vertical-align: top;\n",
       "    }\n",
       "\n",
       "    .dataframe thead th {\n",
       "        text-align: right;\n",
       "    }\n",
       "</style>\n",
       "<table border=\"1\" class=\"dataframe\">\n",
       "  <thead>\n",
       "    <tr style=\"text-align: right;\">\n",
       "      <th></th>\n",
       "      <th>Unnamed: 0</th>\n",
       "      <th>(R$ Milhões)</th>\n",
       "      <th>Var(%)</th>\n",
       "    </tr>\n",
       "  </thead>\n",
       "  <tbody>\n",
       "    <tr>\n",
       "      <th>0</th>\n",
       "      <td>Receita líquida</td>\n",
       "      <td>2.686,3</td>\n",
       "      <td>0.151</td>\n",
       "    </tr>\n",
       "    <tr>\n",
       "      <th>1</th>\n",
       "      <td>Lucro Bruto</td>\n",
       "      <td>1.894,5</td>\n",
       "      <td>0.100</td>\n",
       "    </tr>\n",
       "    <tr>\n",
       "      <th>2</th>\n",
       "      <td>EBITDA</td>\n",
       "      <td>814,1</td>\n",
       "      <td>0.194</td>\n",
       "    </tr>\n",
       "    <tr>\n",
       "      <th>3</th>\n",
       "      <td>EBITDA (Ajustado)</td>\n",
       "      <td>823,2</td>\n",
       "      <td>0.149</td>\n",
       "    </tr>\n",
       "    <tr>\n",
       "      <th>4</th>\n",
       "      <td>Lucro líquido</td>\n",
       "      <td>544,6</td>\n",
       "      <td>0.152</td>\n",
       "    </tr>\n",
       "    <tr>\n",
       "      <th>5</th>\n",
       "      <td>Lucro líquido por ação</td>\n",
       "      <td>8,5</td>\n",
       "      <td>0.152</td>\n",
       "    </tr>\n",
       "  </tbody>\n",
       "</table>\n",
       "</div>"
      ],
      "text/plain": [
       "               Unnamed: 0 (R$ Milhões)  Var(%)\n",
       "0         Receita líquida      2.686,3   0.151\n",
       "1             Lucro Bruto      1.894,5   0.100\n",
       "2                  EBITDA        814,1   0.194\n",
       "3       EBITDA (Ajustado)        823,2   0.149\n",
       "4           Lucro líquido        544,6   0.152\n",
       "5  Lucro líquido por ação          8,5   0.152"
      ]
     },
     "metadata": {},
     "output_type": "display_data"
    }
   ],
   "source": [
    "tabela_Finanças2016 = pd.read_excel(\"Aché Finanças 2016.xlsx\")\n",
    "display(tabela_Finanças2016)"
   ]
  },
  {
   "cell_type": "markdown",
   "id": "d76c2ed2",
   "metadata": {},
   "source": [
    "# Finanças 2017"
   ]
  },
  {
   "cell_type": "code",
   "execution_count": 4,
   "id": "d714aed3",
   "metadata": {},
   "outputs": [
    {
     "data": {
      "text/html": [
       "<div>\n",
       "<style scoped>\n",
       "    .dataframe tbody tr th:only-of-type {\n",
       "        vertical-align: middle;\n",
       "    }\n",
       "\n",
       "    .dataframe tbody tr th {\n",
       "        vertical-align: top;\n",
       "    }\n",
       "\n",
       "    .dataframe thead th {\n",
       "        text-align: right;\n",
       "    }\n",
       "</style>\n",
       "<table border=\"1\" class=\"dataframe\">\n",
       "  <thead>\n",
       "    <tr style=\"text-align: right;\">\n",
       "      <th></th>\n",
       "      <th>-</th>\n",
       "      <th>2017</th>\n",
       "    </tr>\n",
       "  </thead>\n",
       "  <tbody>\n",
       "    <tr>\n",
       "      <th>0</th>\n",
       "      <td>Receita Líquida</td>\n",
       "      <td>2.967,9</td>\n",
       "    </tr>\n",
       "    <tr>\n",
       "      <th>1</th>\n",
       "      <td>Lucro Bruto</td>\n",
       "      <td>2.158,6</td>\n",
       "    </tr>\n",
       "    <tr>\n",
       "      <th>2</th>\n",
       "      <td>Lucro Líquido</td>\n",
       "      <td>565,3</td>\n",
       "    </tr>\n",
       "    <tr>\n",
       "      <th>3</th>\n",
       "      <td>Lucro Líquido por Ação</td>\n",
       "      <td>8,8</td>\n",
       "    </tr>\n",
       "    <tr>\n",
       "      <th>4</th>\n",
       "      <td>EBITDA</td>\n",
       "      <td>870,4</td>\n",
       "    </tr>\n",
       "  </tbody>\n",
       "</table>\n",
       "</div>"
      ],
      "text/plain": [
       "                        -     2017\n",
       "0         Receita Líquida  2.967,9\n",
       "1             Lucro Bruto  2.158,6\n",
       "2           Lucro Líquido    565,3\n",
       "3  Lucro Líquido por Ação      8,8\n",
       "4                  EBITDA    870,4"
      ]
     },
     "metadata": {},
     "output_type": "display_data"
    }
   ],
   "source": [
    "tabela_Finanças2017 = pd.read_excel(\"Aché 2017.xlsx\", sheet_name=\"Aché Finanças 2017\")\n",
    "display(tabela_Finanças2017)"
   ]
  },
  {
   "cell_type": "markdown",
   "id": "42aefd2d",
   "metadata": {},
   "source": [
    "# Finanças 2018"
   ]
  },
  {
   "cell_type": "code",
   "execution_count": 5,
   "id": "58129135",
   "metadata": {},
   "outputs": [
    {
     "data": {
      "text/html": [
       "<div>\n",
       "<style scoped>\n",
       "    .dataframe tbody tr th:only-of-type {\n",
       "        vertical-align: middle;\n",
       "    }\n",
       "\n",
       "    .dataframe tbody tr th {\n",
       "        vertical-align: top;\n",
       "    }\n",
       "\n",
       "    .dataframe thead th {\n",
       "        text-align: right;\n",
       "    }\n",
       "</style>\n",
       "<table border=\"1\" class=\"dataframe\">\n",
       "  <thead>\n",
       "    <tr style=\"text-align: right;\">\n",
       "      <th></th>\n",
       "      <th>Coluna1</th>\n",
       "      <th>(R$ Milhões)</th>\n",
       "      <th>Var(%)</th>\n",
       "    </tr>\n",
       "  </thead>\n",
       "  <tbody>\n",
       "    <tr>\n",
       "      <th>0</th>\n",
       "      <td>Receita líquida</td>\n",
       "      <td>3183.2</td>\n",
       "      <td>0.073</td>\n",
       "    </tr>\n",
       "    <tr>\n",
       "      <th>1</th>\n",
       "      <td>Lucro Bruto</td>\n",
       "      <td>2.243,8</td>\n",
       "      <td>0.052</td>\n",
       "    </tr>\n",
       "    <tr>\n",
       "      <th>2</th>\n",
       "      <td>EBITDA</td>\n",
       "      <td>939,2</td>\n",
       "      <td>0.079</td>\n",
       "    </tr>\n",
       "    <tr>\n",
       "      <th>3</th>\n",
       "      <td>Lucro líquido</td>\n",
       "      <td>607,5</td>\n",
       "      <td>0.075</td>\n",
       "    </tr>\n",
       "    <tr>\n",
       "      <th>4</th>\n",
       "      <td>Lucro líquido p/ ação</td>\n",
       "      <td>9,5</td>\n",
       "      <td>NaN</td>\n",
       "    </tr>\n",
       "  </tbody>\n",
       "</table>\n",
       "</div>"
      ],
      "text/plain": [
       "                 Coluna1 (R$ Milhões)  Var(%)\n",
       "0        Receita líquida       3183.2   0.073\n",
       "1            Lucro Bruto      2.243,8   0.052\n",
       "2                 EBITDA        939,2   0.079\n",
       "3          Lucro líquido        607,5   0.075\n",
       "4  Lucro líquido p/ ação          9,5     NaN"
      ]
     },
     "metadata": {},
     "output_type": "display_data"
    }
   ],
   "source": [
    "tabela_Finanças2018 = pd.read_excel(\"Aché Finanças 2018.xlsx\")\n",
    "display(tabela_Finanças2018)"
   ]
  },
  {
   "cell_type": "markdown",
   "id": "ba0f0b13",
   "metadata": {},
   "source": [
    "# Finanças 2019"
   ]
  },
  {
   "cell_type": "code",
   "execution_count": 6,
   "id": "18c2d830",
   "metadata": {},
   "outputs": [
    {
     "data": {
      "text/html": [
       "<div>\n",
       "<style scoped>\n",
       "    .dataframe tbody tr th:only-of-type {\n",
       "        vertical-align: middle;\n",
       "    }\n",
       "\n",
       "    .dataframe tbody tr th {\n",
       "        vertical-align: top;\n",
       "    }\n",
       "\n",
       "    .dataframe thead th {\n",
       "        text-align: right;\n",
       "    }\n",
       "</style>\n",
       "<table border=\"1\" class=\"dataframe\">\n",
       "  <thead>\n",
       "    <tr style=\"text-align: right;\">\n",
       "      <th></th>\n",
       "      <th>Unnamed: 0</th>\n",
       "      <th>(R$ Milhões)</th>\n",
       "      <th>Var(%)</th>\n",
       "    </tr>\n",
       "  </thead>\n",
       "  <tbody>\n",
       "    <tr>\n",
       "      <th>0</th>\n",
       "      <td>Receita Líquida</td>\n",
       "      <td>3.350,5</td>\n",
       "      <td>0.053</td>\n",
       "    </tr>\n",
       "    <tr>\n",
       "      <th>1</th>\n",
       "      <td>Lucro Bruto</td>\n",
       "      <td>2.322,2</td>\n",
       "      <td>0.035</td>\n",
       "    </tr>\n",
       "    <tr>\n",
       "      <th>2</th>\n",
       "      <td>EBITDA</td>\n",
       "      <td>1.083,4</td>\n",
       "      <td>0.154</td>\n",
       "    </tr>\n",
       "    <tr>\n",
       "      <th>3</th>\n",
       "      <td>Lucro Líquído</td>\n",
       "      <td>721,3</td>\n",
       "      <td>0.187</td>\n",
       "    </tr>\n",
       "    <tr>\n",
       "      <th>4</th>\n",
       "      <td>Lucro líquido p/ ação</td>\n",
       "      <td>11,3</td>\n",
       "      <td>NaN</td>\n",
       "    </tr>\n",
       "  </tbody>\n",
       "</table>\n",
       "</div>"
      ],
      "text/plain": [
       "              Unnamed: 0 (R$ Milhões)  Var(%)\n",
       "0        Receita Líquida      3.350,5   0.053\n",
       "1            Lucro Bruto      2.322,2   0.035\n",
       "2                 EBITDA      1.083,4   0.154\n",
       "3          Lucro Líquído        721,3   0.187\n",
       "4  Lucro líquido p/ ação         11,3     NaN"
      ]
     },
     "metadata": {},
     "output_type": "display_data"
    }
   ],
   "source": [
    "tabela_Finanças2019 = pd.read_excel(\"Aché Finanças 2019.xlsx\")\n",
    "display(tabela_Finanças2019)"
   ]
  },
  {
   "cell_type": "markdown",
   "id": "e7051c67",
   "metadata": {},
   "source": [
    "# Finanças 2020"
   ]
  },
  {
   "cell_type": "code",
   "execution_count": 7,
   "id": "fa089151",
   "metadata": {},
   "outputs": [
    {
     "data": {
      "text/html": [
       "<div>\n",
       "<style scoped>\n",
       "    .dataframe tbody tr th:only-of-type {\n",
       "        vertical-align: middle;\n",
       "    }\n",
       "\n",
       "    .dataframe tbody tr th {\n",
       "        vertical-align: top;\n",
       "    }\n",
       "\n",
       "    .dataframe thead th {\n",
       "        text-align: right;\n",
       "    }\n",
       "</style>\n",
       "<table border=\"1\" class=\"dataframe\">\n",
       "  <thead>\n",
       "    <tr style=\"text-align: right;\">\n",
       "      <th></th>\n",
       "      <th>Unnamed: 0</th>\n",
       "      <th>(R$ Milhões)</th>\n",
       "      <th>Var(%)</th>\n",
       "    </tr>\n",
       "  </thead>\n",
       "  <tbody>\n",
       "    <tr>\n",
       "      <th>0</th>\n",
       "      <td>Receita Líquida</td>\n",
       "      <td>3.477,3</td>\n",
       "      <td>3,8%</td>\n",
       "    </tr>\n",
       "    <tr>\n",
       "      <th>1</th>\n",
       "      <td>Lucro Bruto</td>\n",
       "      <td>2.343,2</td>\n",
       "      <td>0,9%</td>\n",
       "    </tr>\n",
       "    <tr>\n",
       "      <th>2</th>\n",
       "      <td>EBITDA</td>\n",
       "      <td>1.046,8</td>\n",
       "      <td>-3,4%</td>\n",
       "    </tr>\n",
       "    <tr>\n",
       "      <th>3</th>\n",
       "      <td>Lucro Líquido</td>\n",
       "      <td>631,4</td>\n",
       "      <td>-12,5%</td>\n",
       "    </tr>\n",
       "    <tr>\n",
       "      <th>4</th>\n",
       "      <td>Lucro Líquido p/ ação</td>\n",
       "      <td>9,9</td>\n",
       "      <td>NaN</td>\n",
       "    </tr>\n",
       "  </tbody>\n",
       "</table>\n",
       "</div>"
      ],
      "text/plain": [
       "              Unnamed: 0 (R$ Milhões)  Var(%)\n",
       "0        Receita Líquida      3.477,3    3,8%\n",
       "1            Lucro Bruto      2.343,2    0,9%\n",
       "2                 EBITDA      1.046,8   -3,4%\n",
       "3          Lucro Líquido        631,4  -12,5%\n",
       "4  Lucro Líquido p/ ação          9,9     NaN"
      ]
     },
     "metadata": {},
     "output_type": "display_data"
    }
   ],
   "source": [
    "tabela_Finanças2020 = pd.read_excel(\"Aché Finanças 2020.xlsx\")\n",
    "display(tabela_Finanças2020)"
   ]
  },
  {
   "cell_type": "markdown",
   "id": "95e2e599",
   "metadata": {},
   "source": [
    "# Finanças 2021"
   ]
  },
  {
   "cell_type": "code",
   "execution_count": 8,
   "id": "051e5c13",
   "metadata": {},
   "outputs": [
    {
     "data": {
      "text/html": [
       "<div>\n",
       "<style scoped>\n",
       "    .dataframe tbody tr th:only-of-type {\n",
       "        vertical-align: middle;\n",
       "    }\n",
       "\n",
       "    .dataframe tbody tr th {\n",
       "        vertical-align: top;\n",
       "    }\n",
       "\n",
       "    .dataframe thead th {\n",
       "        text-align: right;\n",
       "    }\n",
       "</style>\n",
       "<table border=\"1\" class=\"dataframe\">\n",
       "  <thead>\n",
       "    <tr style=\"text-align: right;\">\n",
       "      <th></th>\n",
       "      <th>Unnamed: 0</th>\n",
       "      <th>(R$ Milhões)</th>\n",
       "      <th>Var(%)</th>\n",
       "    </tr>\n",
       "  </thead>\n",
       "  <tbody>\n",
       "    <tr>\n",
       "      <th>0</th>\n",
       "      <td>Receita Líquida</td>\n",
       "      <td>4.028,3</td>\n",
       "      <td>15,8%</td>\n",
       "    </tr>\n",
       "    <tr>\n",
       "      <th>1</th>\n",
       "      <td>Lucro Bruto</td>\n",
       "      <td>2.565,5</td>\n",
       "      <td>9,5%</td>\n",
       "    </tr>\n",
       "    <tr>\n",
       "      <th>2</th>\n",
       "      <td>EBITDA</td>\n",
       "      <td>1.051,2</td>\n",
       "      <td>0,4%</td>\n",
       "    </tr>\n",
       "    <tr>\n",
       "      <th>3</th>\n",
       "      <td>EBITDA (Ajustado)</td>\n",
       "      <td>1.040,0</td>\n",
       "      <td>4,6%</td>\n",
       "    </tr>\n",
       "    <tr>\n",
       "      <th>4</th>\n",
       "      <td>Lucro Líquido</td>\n",
       "      <td>654,3</td>\n",
       "      <td>3,6%</td>\n",
       "    </tr>\n",
       "    <tr>\n",
       "      <th>5</th>\n",
       "      <td>Lucro Líquido p/ação</td>\n",
       "      <td>10,2</td>\n",
       "      <td>NaN</td>\n",
       "    </tr>\n",
       "  </tbody>\n",
       "</table>\n",
       "</div>"
      ],
      "text/plain": [
       "             Unnamed: 0 (R$ Milhões) Var(%)\n",
       "0       Receita Líquida      4.028,3  15,8%\n",
       "1           Lucro Bruto      2.565,5   9,5%\n",
       "2                EBITDA      1.051,2   0,4%\n",
       "3     EBITDA (Ajustado)      1.040,0   4,6%\n",
       "4         Lucro Líquido        654,3   3,6%\n",
       "5  Lucro Líquido p/ação         10,2    NaN"
      ]
     },
     "metadata": {},
     "output_type": "display_data"
    }
   ],
   "source": [
    "tabela_Finanças2021 = pd.read_excel(\"Aché Finanças 2021.xlsx\")\n",
    "display(tabela_Finanças2021)"
   ]
  },
  {
   "cell_type": "markdown",
   "id": "fa0b3258",
   "metadata": {},
   "source": [
    "# Finanças 2022"
   ]
  },
  {
   "cell_type": "code",
   "execution_count": 9,
   "id": "cbdf0919",
   "metadata": {},
   "outputs": [
    {
     "data": {
      "text/html": [
       "<div>\n",
       "<style scoped>\n",
       "    .dataframe tbody tr th:only-of-type {\n",
       "        vertical-align: middle;\n",
       "    }\n",
       "\n",
       "    .dataframe tbody tr th {\n",
       "        vertical-align: top;\n",
       "    }\n",
       "\n",
       "    .dataframe thead th {\n",
       "        text-align: right;\n",
       "    }\n",
       "</style>\n",
       "<table border=\"1\" class=\"dataframe\">\n",
       "  <thead>\n",
       "    <tr style=\"text-align: right;\">\n",
       "      <th></th>\n",
       "      <th>Unnamed: 0</th>\n",
       "      <th>(R$ Milhões)</th>\n",
       "      <th>Var(%)</th>\n",
       "    </tr>\n",
       "  </thead>\n",
       "  <tbody>\n",
       "    <tr>\n",
       "      <th>0</th>\n",
       "      <td>Receita Líquida</td>\n",
       "      <td>4.977,6</td>\n",
       "      <td>23,6%</td>\n",
       "    </tr>\n",
       "    <tr>\n",
       "      <th>1</th>\n",
       "      <td>Lucro Bruto</td>\n",
       "      <td>3.287,3</td>\n",
       "      <td>28,1%</td>\n",
       "    </tr>\n",
       "    <tr>\n",
       "      <th>2</th>\n",
       "      <td>EBITDA</td>\n",
       "      <td>1.418,1</td>\n",
       "      <td>35,3%</td>\n",
       "    </tr>\n",
       "    <tr>\n",
       "      <th>3</th>\n",
       "      <td>Lucro Líquido</td>\n",
       "      <td>1.058,4</td>\n",
       "      <td>62,4%</td>\n",
       "    </tr>\n",
       "    <tr>\n",
       "      <th>4</th>\n",
       "      <td>Lucro Líquido p/ ação</td>\n",
       "      <td>16,6</td>\n",
       "      <td>NaN</td>\n",
       "    </tr>\n",
       "  </tbody>\n",
       "</table>\n",
       "</div>"
      ],
      "text/plain": [
       "              Unnamed: 0 (R$ Milhões) Var(%)\n",
       "0        Receita Líquida      4.977,6  23,6%\n",
       "1            Lucro Bruto      3.287,3  28,1%\n",
       "2                 EBITDA      1.418,1  35,3%\n",
       "3          Lucro Líquido      1.058,4  62,4%\n",
       "4  Lucro Líquido p/ ação         16,6    NaN"
      ]
     },
     "metadata": {},
     "output_type": "display_data"
    }
   ],
   "source": [
    "tabela_Finanças2022 = pd.read_excel(\"Aché Finanças 2022.xlsx\")\n",
    "display(tabela_Finanças2022)"
   ]
  },
  {
   "cell_type": "markdown",
   "id": "454ea909",
   "metadata": {},
   "source": [
    "# Finanças 2023 - Primeiro semeste"
   ]
  },
  {
   "cell_type": "code",
   "execution_count": 10,
   "id": "5b08a7cc",
   "metadata": {},
   "outputs": [
    {
     "data": {
      "text/html": [
       "<div>\n",
       "<style scoped>\n",
       "    .dataframe tbody tr th:only-of-type {\n",
       "        vertical-align: middle;\n",
       "    }\n",
       "\n",
       "    .dataframe tbody tr th {\n",
       "        vertical-align: top;\n",
       "    }\n",
       "\n",
       "    .dataframe thead th {\n",
       "        text-align: right;\n",
       "    }\n",
       "</style>\n",
       "<table border=\"1\" class=\"dataframe\">\n",
       "  <thead>\n",
       "    <tr style=\"text-align: right;\">\n",
       "      <th></th>\n",
       "      <th>-</th>\n",
       "      <th>(R$ Milhões)</th>\n",
       "      <th>Var(%)</th>\n",
       "    </tr>\n",
       "  </thead>\n",
       "  <tbody>\n",
       "    <tr>\n",
       "      <th>0</th>\n",
       "      <td>Receita Líquida</td>\n",
       "      <td>2.428,5</td>\n",
       "      <td>NaN</td>\n",
       "    </tr>\n",
       "    <tr>\n",
       "      <th>1</th>\n",
       "      <td>Lucro Bruto</td>\n",
       "      <td>1.576,4</td>\n",
       "      <td>64,9%</td>\n",
       "    </tr>\n",
       "    <tr>\n",
       "      <th>2</th>\n",
       "      <td>EBITDA</td>\n",
       "      <td>444,3</td>\n",
       "      <td>18,3%</td>\n",
       "    </tr>\n",
       "    <tr>\n",
       "      <th>3</th>\n",
       "      <td>Lucro Líquido</td>\n",
       "      <td>289,9</td>\n",
       "      <td>11,9%</td>\n",
       "    </tr>\n",
       "    <tr>\n",
       "      <th>4</th>\n",
       "      <td>Lucro Líquido p/ ação</td>\n",
       "      <td>4,5</td>\n",
       "      <td>NaN</td>\n",
       "    </tr>\n",
       "  </tbody>\n",
       "</table>\n",
       "</div>"
      ],
      "text/plain": [
       "                       - (R$ Milhões) Var(%)\n",
       "0        Receita Líquida      2.428,5    NaN\n",
       "1            Lucro Bruto      1.576,4  64,9%\n",
       "2                 EBITDA        444,3  18,3%\n",
       "3          Lucro Líquido        289,9  11,9%\n",
       "4  Lucro Líquido p/ ação          4,5    NaN"
      ]
     },
     "metadata": {},
     "output_type": "display_data"
    }
   ],
   "source": [
    "tabela_Finanças2023S1 = pd.read_excel(\"Aché Finanças 2023(S1).xlsx\")\n",
    "display(tabela_Finanças2023S1)"
   ]
  },
  {
   "cell_type": "markdown",
   "id": "f228e593",
   "metadata": {},
   "source": [
    "# Finanças Geral"
   ]
  },
  {
   "cell_type": "code",
   "execution_count": 11,
   "id": "b8116c33",
   "metadata": {
    "scrolled": true
   },
   "outputs": [
    {
     "data": {
      "text/html": [
       "<div>\n",
       "<style scoped>\n",
       "    .dataframe tbody tr th:only-of-type {\n",
       "        vertical-align: middle;\n",
       "    }\n",
       "\n",
       "    .dataframe tbody tr th {\n",
       "        vertical-align: top;\n",
       "    }\n",
       "\n",
       "    .dataframe thead th {\n",
       "        text-align: right;\n",
       "    }\n",
       "</style>\n",
       "<table border=\"1\" class=\"dataframe\">\n",
       "  <thead>\n",
       "    <tr style=\"text-align: right;\">\n",
       "      <th></th>\n",
       "      <th>Ano</th>\n",
       "      <th>Receita Líquida</th>\n",
       "      <th>Lucro Bruto</th>\n",
       "      <th>Lucro Líquido</th>\n",
       "      <th>Lucro Líquido por Ação</th>\n",
       "      <th>EBITDA</th>\n",
       "      <th>EBITDA (AJUSTADO)</th>\n",
       "    </tr>\n",
       "  </thead>\n",
       "  <tbody>\n",
       "    <tr>\n",
       "      <th>0</th>\n",
       "      <td>2015</td>\n",
       "      <td>2.332,9</td>\n",
       "      <td>1.706,2</td>\n",
       "      <td>472,8</td>\n",
       "      <td>-</td>\n",
       "      <td>681,9</td>\n",
       "      <td>716,3</td>\n",
       "    </tr>\n",
       "    <tr>\n",
       "      <th>1</th>\n",
       "      <td>2016</td>\n",
       "      <td>2.686,3</td>\n",
       "      <td>1.894,5</td>\n",
       "      <td>544,6</td>\n",
       "      <td>8,5</td>\n",
       "      <td>8,5</td>\n",
       "      <td>823,2</td>\n",
       "    </tr>\n",
       "    <tr>\n",
       "      <th>2</th>\n",
       "      <td>2017</td>\n",
       "      <td>2.967,9</td>\n",
       "      <td>2.158,6</td>\n",
       "      <td>565,3</td>\n",
       "      <td>8,8</td>\n",
       "      <td>870,4</td>\n",
       "      <td>-</td>\n",
       "    </tr>\n",
       "    <tr>\n",
       "      <th>3</th>\n",
       "      <td>2018</td>\n",
       "      <td>3.183,2</td>\n",
       "      <td>2.243,8</td>\n",
       "      <td>607,5</td>\n",
       "      <td>9,5</td>\n",
       "      <td>939,2</td>\n",
       "      <td>-</td>\n",
       "    </tr>\n",
       "    <tr>\n",
       "      <th>4</th>\n",
       "      <td>2019</td>\n",
       "      <td>3.350,5</td>\n",
       "      <td>2.322,2</td>\n",
       "      <td>721,3</td>\n",
       "      <td>11,3</td>\n",
       "      <td>1.083,4</td>\n",
       "      <td>-</td>\n",
       "    </tr>\n",
       "    <tr>\n",
       "      <th>5</th>\n",
       "      <td>2020</td>\n",
       "      <td>3.477,3</td>\n",
       "      <td>2.343,2</td>\n",
       "      <td>631,4</td>\n",
       "      <td>9,9</td>\n",
       "      <td>1.046,8</td>\n",
       "      <td>-</td>\n",
       "    </tr>\n",
       "    <tr>\n",
       "      <th>6</th>\n",
       "      <td>2021</td>\n",
       "      <td>4.028,3</td>\n",
       "      <td>2.565,5</td>\n",
       "      <td>654,3</td>\n",
       "      <td>10,2</td>\n",
       "      <td>1.051,2</td>\n",
       "      <td>1.040,0</td>\n",
       "    </tr>\n",
       "    <tr>\n",
       "      <th>7</th>\n",
       "      <td>2022</td>\n",
       "      <td>4.977,6</td>\n",
       "      <td>3.287,3</td>\n",
       "      <td>1.058,4</td>\n",
       "      <td>16,6</td>\n",
       "      <td>1.418,1</td>\n",
       "      <td>-</td>\n",
       "    </tr>\n",
       "    <tr>\n",
       "      <th>8</th>\n",
       "      <td>2023</td>\n",
       "      <td>2.428,5</td>\n",
       "      <td>1.576,4</td>\n",
       "      <td>289,8</td>\n",
       "      <td>4,5</td>\n",
       "      <td>444,3</td>\n",
       "      <td>-</td>\n",
       "    </tr>\n",
       "  </tbody>\n",
       "</table>\n",
       "</div>"
      ],
      "text/plain": [
       "   Ano  Receita Líquida Lucro Bruto Lucro Líquido Lucro Líquido por Ação  \\\n",
       "0  2015         2.332,9     1.706,2         472,8                      -   \n",
       "1  2016         2.686,3     1.894,5         544,6                    8,5   \n",
       "2  2017         2.967,9     2.158,6         565,3                    8,8   \n",
       "3  2018         3.183,2     2.243,8         607,5                    9,5   \n",
       "4  2019         3.350,5     2.322,2         721,3                   11,3   \n",
       "5  2020         3.477,3     2.343,2         631,4                    9,9   \n",
       "6  2021         4.028,3     2.565,5         654,3                   10,2   \n",
       "7  2022         4.977,6     3.287,3       1.058,4                   16,6   \n",
       "8  2023         2.428,5     1.576,4         289,8                    4,5   \n",
       "\n",
       "    EBITDA EBITDA (AJUSTADO)  \n",
       "0    681,9             716,3  \n",
       "1      8,5             823,2  \n",
       "2    870,4                 -  \n",
       "3    939,2                 -  \n",
       "4  1.083,4                 -  \n",
       "5  1.046,8                 -  \n",
       "6  1.051,2           1.040,0  \n",
       "7  1.418,1                 -  \n",
       "8    444,3                 -  "
      ]
     },
     "metadata": {},
     "output_type": "display_data"
    }
   ],
   "source": [
    "tabela_FinançasGeral = pd.read_excel(\"Aché Finanças Geral.xlsx\")\n",
    "display(tabela_FinançasGeral)"
   ]
  },
  {
   "cell_type": "code",
   "execution_count": 12,
   "id": "5140ecb1",
   "metadata": {},
   "outputs": [
    {
     "data": {
      "text/plain": [
       "Ano                        int64\n",
       "Receita Líquida           object\n",
       "Lucro Bruto               object\n",
       "Lucro Líquido             object\n",
       "Lucro Líquido por Ação    object\n",
       "EBITDA                    object\n",
       "EBITDA (AJUSTADO)         object\n",
       "dtype: object"
      ]
     },
     "execution_count": 12,
     "metadata": {},
     "output_type": "execute_result"
    }
   ],
   "source": [
    "tabela_FinançasGeral.dtypes"
   ]
  },
  {
   "cell_type": "markdown",
   "id": "efbcf87b",
   "metadata": {},
   "source": [
    "- Análise da Receita Líquida"
   ]
  },
  {
   "cell_type": "code",
   "execution_count": 13,
   "id": "e084565a",
   "metadata": {},
   "outputs": [
    {
     "data": {
      "text/plain": [
       "<Axes: >"
      ]
     },
     "execution_count": 13,
     "metadata": {},
     "output_type": "execute_result"
    },
    {
     "data": {
      "image/png": "[encoded data removed]",
      "text/plain": [
       "<Figure size 640x480 with 1 Axes>"
      ]
     },
     "metadata": {},
     "output_type": "display_data"
    }
   ],
   "source": [
    "x = [2015, 2016, 2017, 2018, 2019, 2020, 2021, 2022, 2023]\n",
    "y = [2332.9, 2686.3, 2967.9, 3183.2, 3350.5, 3477.3, 4028.3, 4977.6, 2428.5]\n",
    "\n",
    "sns.lineplot(tabela_FinançasGeral, x=x, y=y, color=\"pink\")"
   ]
  },
  {
   "cell_type": "markdown",
   "id": "6ea3b135",
   "metadata": {},
   "source": [
    "- Análise do Lucro Líquido"
   ]
  },
  {
   "cell_type": "code",
   "execution_count": 14,
   "id": "7a5f0171",
   "metadata": {},
   "outputs": [
    {
     "data": {
      "text/plain": [
       "<Axes: >"
      ]
     },
     "execution_count": 14,
     "metadata": {},
     "output_type": "execute_result"
    },
    {
     "data": {
      "image/png": "[encoded data removed]",
      "text/plain": [
       "<Figure size 640x480 with 1 Axes>"
      ]
     },
     "metadata": {},
     "output_type": "display_data"
    }
   ],
   "source": [
    "x = [2015, 2016, 2017, 2018, 2019, 2020, 2021, 2022, 2023]\n",
    "y = [472.8, 544.6, 565.3, 607.5, 721.3, 631.4, 654.3, 1058.4, 289.8]\n",
    "\n",
    "sns.lineplot(tabela_FinançasGeral, x=x, y=y, color= \"pink\")"
   ]
  },
  {
   "cell_type": "markdown",
   "id": "b26a4b11",
   "metadata": {},
   "source": [
    "# Dívida 2015"
   ]
  },
  {
   "cell_type": "code",
   "execution_count": 15,
   "id": "c3ac9861",
   "metadata": {},
   "outputs": [
    {
     "data": {
      "text/html": [
       "<div>\n",
       "<style scoped>\n",
       "    .dataframe tbody tr th:only-of-type {\n",
       "        vertical-align: middle;\n",
       "    }\n",
       "\n",
       "    .dataframe tbody tr th {\n",
       "        vertical-align: top;\n",
       "    }\n",
       "\n",
       "    .dataframe thead th {\n",
       "        text-align: right;\n",
       "    }\n",
       "</style>\n",
       "<table border=\"1\" class=\"dataframe\">\n",
       "  <thead>\n",
       "    <tr style=\"text-align: right;\">\n",
       "      <th></th>\n",
       "      <th>-</th>\n",
       "      <th>2015</th>\n",
       "    </tr>\n",
       "  </thead>\n",
       "  <tbody>\n",
       "    <tr>\n",
       "      <th>0</th>\n",
       "      <td>Empréstimos e financiamentos - CP</td>\n",
       "      <td>33,8</td>\n",
       "    </tr>\n",
       "    <tr>\n",
       "      <th>1</th>\n",
       "      <td>Empréstimos e financiamentos - LP</td>\n",
       "      <td>159,2</td>\n",
       "    </tr>\n",
       "    <tr>\n",
       "      <th>2</th>\n",
       "      <td>Endividamento Bruto</td>\n",
       "      <td>193,0</td>\n",
       "    </tr>\n",
       "    <tr>\n",
       "      <th>3</th>\n",
       "      <td>Caixa e equivalentes de caixa</td>\n",
       "      <td>228,6</td>\n",
       "    </tr>\n",
       "    <tr>\n",
       "      <th>4</th>\n",
       "      <td>Aplicações financeiras - LP</td>\n",
       "      <td>9,3</td>\n",
       "    </tr>\n",
       "    <tr>\n",
       "      <th>5</th>\n",
       "      <td>Endividamento líquido</td>\n",
       "      <td>44,9</td>\n",
       "    </tr>\n",
       "  </tbody>\n",
       "</table>\n",
       "</div>"
      ],
      "text/plain": [
       "                                   -   2015\n",
       "0  Empréstimos e financiamentos - CP   33,8\n",
       "1  Empréstimos e financiamentos - LP  159,2\n",
       "2                Endividamento Bruto  193,0\n",
       "3      Caixa e equivalentes de caixa  228,6\n",
       "4        Aplicações financeiras - LP    9,3\n",
       "5              Endividamento líquido   44,9"
      ]
     },
     "metadata": {},
     "output_type": "display_data"
    }
   ],
   "source": [
    "tabela_Dívida2015 = pd.read_excel(\"Aché 2015.xlsx\", sheet_name=\"Aché Dívida 2015\")\n",
    "display(tabela_Dívida2015)"
   ]
  },
  {
   "cell_type": "markdown",
   "id": "9d666a8b",
   "metadata": {},
   "source": [
    "# Dívida 2016"
   ]
  },
  {
   "cell_type": "code",
   "execution_count": 16,
   "id": "ea477520",
   "metadata": {},
   "outputs": [
    {
     "data": {
      "text/html": [
       "<div>\n",
       "<style scoped>\n",
       "    .dataframe tbody tr th:only-of-type {\n",
       "        vertical-align: middle;\n",
       "    }\n",
       "\n",
       "    .dataframe tbody tr th {\n",
       "        vertical-align: top;\n",
       "    }\n",
       "\n",
       "    .dataframe thead th {\n",
       "        text-align: right;\n",
       "    }\n",
       "</style>\n",
       "<table border=\"1\" class=\"dataframe\">\n",
       "  <thead>\n",
       "    <tr style=\"text-align: right;\">\n",
       "      <th></th>\n",
       "      <th>Unnamed: 0</th>\n",
       "      <th>(R$ Milhões)</th>\n",
       "      <th>Var(%)</th>\n",
       "    </tr>\n",
       "  </thead>\n",
       "  <tbody>\n",
       "    <tr>\n",
       "      <th>0</th>\n",
       "      <td>Empréstimos e endividamentos - CP</td>\n",
       "      <td>44.2</td>\n",
       "      <td>0.308</td>\n",
       "    </tr>\n",
       "    <tr>\n",
       "      <th>1</th>\n",
       "      <td>Empréstimos e endividamentos - LP</td>\n",
       "      <td>128.6</td>\n",
       "      <td>-0.192</td>\n",
       "    </tr>\n",
       "    <tr>\n",
       "      <th>2</th>\n",
       "      <td>Endividamento Bruto</td>\n",
       "      <td>172.8</td>\n",
       "      <td>-0.105</td>\n",
       "    </tr>\n",
       "    <tr>\n",
       "      <th>3</th>\n",
       "      <td>Caixa e equivalente de caixa</td>\n",
       "      <td>134.4</td>\n",
       "      <td>-0.412</td>\n",
       "    </tr>\n",
       "    <tr>\n",
       "      <th>4</th>\n",
       "      <td>Aplicações fianceiras - LP</td>\n",
       "      <td>-</td>\n",
       "      <td>-1.000</td>\n",
       "    </tr>\n",
       "    <tr>\n",
       "      <th>5</th>\n",
       "      <td>Endividamento Líquido</td>\n",
       "      <td>38.4</td>\n",
       "      <td>-1.855</td>\n",
       "    </tr>\n",
       "  </tbody>\n",
       "</table>\n",
       "</div>"
      ],
      "text/plain": [
       "                          Unnamed: 0 (R$ Milhões)  Var(%)\n",
       "0  Empréstimos e endividamentos - CP         44.2   0.308\n",
       "1  Empréstimos e endividamentos - LP        128.6  -0.192\n",
       "2                Endividamento Bruto        172.8  -0.105\n",
       "3       Caixa e equivalente de caixa        134.4  -0.412\n",
       "4         Aplicações fianceiras - LP            -  -1.000\n",
       "5              Endividamento Líquido         38.4  -1.855"
      ]
     },
     "metadata": {},
     "output_type": "display_data"
    }
   ],
   "source": [
    "tabela_Dívida2016 = pd.read_excel(\"Aché Dívida 2016.xlsx\")\n",
    "display(tabela_Dívida2016)"
   ]
  },
  {
   "cell_type": "markdown",
   "id": "a1543815",
   "metadata": {},
   "source": [
    "# Dívida 2017"
   ]
  },
  {
   "cell_type": "code",
   "execution_count": 17,
   "id": "1241742a",
   "metadata": {},
   "outputs": [
    {
     "data": {
      "text/html": [
       "<div>\n",
       "<style scoped>\n",
       "    .dataframe tbody tr th:only-of-type {\n",
       "        vertical-align: middle;\n",
       "    }\n",
       "\n",
       "    .dataframe tbody tr th {\n",
       "        vertical-align: top;\n",
       "    }\n",
       "\n",
       "    .dataframe thead th {\n",
       "        text-align: right;\n",
       "    }\n",
       "</style>\n",
       "<table border=\"1\" class=\"dataframe\">\n",
       "  <thead>\n",
       "    <tr style=\"text-align: right;\">\n",
       "      <th></th>\n",
       "      <th>-</th>\n",
       "      <th>2017</th>\n",
       "    </tr>\n",
       "  </thead>\n",
       "  <tbody>\n",
       "    <tr>\n",
       "      <th>0</th>\n",
       "      <td>Empréstimos e financiamentos - CP</td>\n",
       "      <td>43,1</td>\n",
       "    </tr>\n",
       "    <tr>\n",
       "      <th>1</th>\n",
       "      <td>Empréstimos e financiamentos - LP</td>\n",
       "      <td>131,5</td>\n",
       "    </tr>\n",
       "    <tr>\n",
       "      <th>2</th>\n",
       "      <td>Endividamento Bruto</td>\n",
       "      <td>174,6</td>\n",
       "    </tr>\n",
       "    <tr>\n",
       "      <th>3</th>\n",
       "      <td>Caixa e equivalentes de caixa</td>\n",
       "      <td>169,0</td>\n",
       "    </tr>\n",
       "    <tr>\n",
       "      <th>4</th>\n",
       "      <td>Endividamento líquido</td>\n",
       "      <td>5,6</td>\n",
       "    </tr>\n",
       "  </tbody>\n",
       "</table>\n",
       "</div>"
      ],
      "text/plain": [
       "                                   -   2017\n",
       "0  Empréstimos e financiamentos - CP   43,1\n",
       "1  Empréstimos e financiamentos - LP  131,5\n",
       "2                Endividamento Bruto  174,6\n",
       "3      Caixa e equivalentes de caixa  169,0\n",
       "4              Endividamento líquido    5,6"
      ]
     },
     "metadata": {},
     "output_type": "display_data"
    }
   ],
   "source": [
    "tabela_Dívida2017 = pd.read_excel(\"Aché 2017.xlsx\", sheet_name= \"Aché Dívida 2017\")\n",
    "display(tabela_Dívida2017)"
   ]
  },
  {
   "cell_type": "markdown",
   "id": "7d053c97",
   "metadata": {},
   "source": [
    "# Dívida 2018"
   ]
  },
  {
   "cell_type": "code",
   "execution_count": 18,
   "id": "f58bfa15",
   "metadata": {},
   "outputs": [
    {
     "data": {
      "text/html": [
       "<div>\n",
       "<style scoped>\n",
       "    .dataframe tbody tr th:only-of-type {\n",
       "        vertical-align: middle;\n",
       "    }\n",
       "\n",
       "    .dataframe tbody tr th {\n",
       "        vertical-align: top;\n",
       "    }\n",
       "\n",
       "    .dataframe thead th {\n",
       "        text-align: right;\n",
       "    }\n",
       "</style>\n",
       "<table border=\"1\" class=\"dataframe\">\n",
       "  <thead>\n",
       "    <tr style=\"text-align: right;\">\n",
       "      <th></th>\n",
       "      <th>NaN</th>\n",
       "      <th>Saldo em Dez/18</th>\n",
       "      <th>Var(%)</th>\n",
       "    </tr>\n",
       "  </thead>\n",
       "  <tbody>\n",
       "    <tr>\n",
       "      <th>1</th>\n",
       "      <td>Empréstimos e financiamentos</td>\n",
       "      <td>NaN</td>\n",
       "      <td>NaN</td>\n",
       "    </tr>\n",
       "    <tr>\n",
       "      <th>2</th>\n",
       "      <td>Circulante</td>\n",
       "      <td>45,5</td>\n",
       "      <td>0.056</td>\n",
       "    </tr>\n",
       "    <tr>\n",
       "      <th>3</th>\n",
       "      <td>Não circulante</td>\n",
       "      <td>337,6</td>\n",
       "      <td>1.567</td>\n",
       "    </tr>\n",
       "    <tr>\n",
       "      <th>4</th>\n",
       "      <td>Endividamento Bruto</td>\n",
       "      <td>383,1</td>\n",
       "      <td>1.194</td>\n",
       "    </tr>\n",
       "    <tr>\n",
       "      <th>5</th>\n",
       "      <td>Caixa e equivalentes de caixa</td>\n",
       "      <td>(245,5)</td>\n",
       "      <td>0.453</td>\n",
       "    </tr>\n",
       "    <tr>\n",
       "      <th>6</th>\n",
       "      <td>Endividamento Líquido</td>\n",
       "      <td>137,6</td>\n",
       "      <td>NaN</td>\n",
       "    </tr>\n",
       "  </tbody>\n",
       "</table>\n",
       "</div>"
      ],
      "text/plain": [
       "0                            NaN Saldo em Dez/18 Var(%)\n",
       "1   Empréstimos e financiamentos             NaN    NaN\n",
       "2                     Circulante            45,5  0.056\n",
       "3                Não circulante            337,6  1.567\n",
       "4            Endividamento Bruto           383,1  1.194\n",
       "5  Caixa e equivalentes de caixa         (245,5)  0.453\n",
       "6          Endividamento Líquido           137,6    NaN"
      ]
     },
     "metadata": {},
     "output_type": "display_data"
    }
   ],
   "source": [
    "tabela_Dívida2018 = pd.read_excel(\"Aché Dívidas 2018.xlsx\")\n",
    "tabela_Dívida2018.columns = tabela_Dívida2018.iloc[0]\n",
    "tabela_Dívida2018 = tabela_Dívida2018.drop(0,axis=0)\n",
    "display(tabela_Dívida2018)"
   ]
  },
  {
   "cell_type": "markdown",
   "id": "acc9a1e4",
   "metadata": {},
   "source": [
    "# Dívida 2019"
   ]
  },
  {
   "cell_type": "code",
   "execution_count": 19,
   "id": "7c9d7009",
   "metadata": {},
   "outputs": [
    {
     "data": {
      "text/html": [
       "<div>\n",
       "<style scoped>\n",
       "    .dataframe tbody tr th:only-of-type {\n",
       "        vertical-align: middle;\n",
       "    }\n",
       "\n",
       "    .dataframe tbody tr th {\n",
       "        vertical-align: top;\n",
       "    }\n",
       "\n",
       "    .dataframe thead th {\n",
       "        text-align: right;\n",
       "    }\n",
       "</style>\n",
       "<table border=\"1\" class=\"dataframe\">\n",
       "  <thead>\n",
       "    <tr style=\"text-align: right;\">\n",
       "      <th></th>\n",
       "      <th>Unnamed: 0</th>\n",
       "      <th>(R$ Milhões )</th>\n",
       "      <th>Var(%)</th>\n",
       "    </tr>\n",
       "  </thead>\n",
       "  <tbody>\n",
       "    <tr>\n",
       "      <th>0</th>\n",
       "      <td>Empréstimos e financiamentos</td>\n",
       "      <td>NaN</td>\n",
       "      <td>NaN</td>\n",
       "    </tr>\n",
       "    <tr>\n",
       "      <th>1</th>\n",
       "      <td>Circulante</td>\n",
       "      <td>111.5</td>\n",
       "      <td>1.451</td>\n",
       "    </tr>\n",
       "    <tr>\n",
       "      <th>2</th>\n",
       "      <td>Não circulante</td>\n",
       "      <td>397.3</td>\n",
       "      <td>0.177</td>\n",
       "    </tr>\n",
       "    <tr>\n",
       "      <th>3</th>\n",
       "      <td>Endividamento bruto</td>\n",
       "      <td>508.8</td>\n",
       "      <td>0.328</td>\n",
       "    </tr>\n",
       "    <tr>\n",
       "      <th>4</th>\n",
       "      <td>Caixa e equivalente de caixa</td>\n",
       "      <td>-145.4</td>\n",
       "      <td>-0.407</td>\n",
       "    </tr>\n",
       "    <tr>\n",
       "      <th>5</th>\n",
       "      <td>Endividamento líquido</td>\n",
       "      <td>363.4</td>\n",
       "      <td>NaN</td>\n",
       "    </tr>\n",
       "  </tbody>\n",
       "</table>\n",
       "</div>"
      ],
      "text/plain": [
       "                      Unnamed: 0  (R$ Milhões )  Var(%)\n",
       "0  Empréstimos e financiamentos             NaN     NaN\n",
       "1                    Circulante           111.5   1.451\n",
       "2                Não circulante           397.3   0.177\n",
       "3            Endividamento bruto          508.8   0.328\n",
       "4   Caixa e equivalente de caixa         -145.4  -0.407\n",
       "5          Endividamento líquido          363.4     NaN"
      ]
     },
     "metadata": {},
     "output_type": "display_data"
    }
   ],
   "source": [
    "tabela_Dívida2019 = pd.read_excel(\"Aché Dívida 2019.xlsx\")\n",
    "display(tabela_Dívida2019)"
   ]
  },
  {
   "cell_type": "markdown",
   "id": "f22ff824",
   "metadata": {},
   "source": [
    "# Dívida 2020"
   ]
  },
  {
   "cell_type": "code",
   "execution_count": 20,
   "id": "79f9ed7f",
   "metadata": {},
   "outputs": [
    {
     "data": {
      "text/html": [
       "<div>\n",
       "<style scoped>\n",
       "    .dataframe tbody tr th:only-of-type {\n",
       "        vertical-align: middle;\n",
       "    }\n",
       "\n",
       "    .dataframe tbody tr th {\n",
       "        vertical-align: top;\n",
       "    }\n",
       "\n",
       "    .dataframe thead th {\n",
       "        text-align: right;\n",
       "    }\n",
       "</style>\n",
       "<table border=\"1\" class=\"dataframe\">\n",
       "  <thead>\n",
       "    <tr style=\"text-align: right;\">\n",
       "      <th></th>\n",
       "      <th>Unnamed: 0</th>\n",
       "      <th>(R$ Milhões)</th>\n",
       "      <th>Var(%)</th>\n",
       "    </tr>\n",
       "  </thead>\n",
       "  <tbody>\n",
       "    <tr>\n",
       "      <th>0</th>\n",
       "      <td>Empréstimos e financiamentos</td>\n",
       "      <td>NaN</td>\n",
       "      <td>NaN</td>\n",
       "    </tr>\n",
       "    <tr>\n",
       "      <th>1</th>\n",
       "      <td>Circulante</td>\n",
       "      <td>515,7</td>\n",
       "      <td>362,5%</td>\n",
       "    </tr>\n",
       "    <tr>\n",
       "      <th>2</th>\n",
       "      <td>Não circulante</td>\n",
       "      <td>381,4</td>\n",
       "      <td>-4,0%</td>\n",
       "    </tr>\n",
       "    <tr>\n",
       "      <th>3</th>\n",
       "      <td>Endividamento Bruto</td>\n",
       "      <td>897,1</td>\n",
       "      <td>76,3%</td>\n",
       "    </tr>\n",
       "    <tr>\n",
       "      <th>4</th>\n",
       "      <td>Caixa e equivalente de caixa</td>\n",
       "      <td>(284,5)</td>\n",
       "      <td>95,7%</td>\n",
       "    </tr>\n",
       "    <tr>\n",
       "      <th>5</th>\n",
       "      <td>Endividamento Líquido</td>\n",
       "      <td>612,6</td>\n",
       "      <td>NaN</td>\n",
       "    </tr>\n",
       "  </tbody>\n",
       "</table>\n",
       "</div>"
      ],
      "text/plain": [
       "                     Unnamed: 0 (R$ Milhões)  Var(%)\n",
       "0  Empréstimos e financiamentos          NaN     NaN\n",
       "1                    Circulante        515,7  362,5%\n",
       "2                Não circulante        381,4   -4,0%\n",
       "3           Endividamento Bruto        897,1   76,3%\n",
       "4  Caixa e equivalente de caixa      (284,5)   95,7%\n",
       "5         Endividamento Líquido        612,6     NaN"
      ]
     },
     "metadata": {},
     "output_type": "display_data"
    }
   ],
   "source": [
    "tabela_Dívida2020 = pd.read_excel(\"Aché Dívida 2020.xlsx\")\n",
    "display(tabela_Dívida2020)"
   ]
  },
  {
   "cell_type": "markdown",
   "id": "ccff06ff",
   "metadata": {},
   "source": [
    "# Dívida 2021"
   ]
  },
  {
   "cell_type": "code",
   "execution_count": 21,
   "id": "b6fc9b73",
   "metadata": {},
   "outputs": [
    {
     "data": {
      "text/html": [
       "<div>\n",
       "<style scoped>\n",
       "    .dataframe tbody tr th:only-of-type {\n",
       "        vertical-align: middle;\n",
       "    }\n",
       "\n",
       "    .dataframe tbody tr th {\n",
       "        vertical-align: top;\n",
       "    }\n",
       "\n",
       "    .dataframe thead th {\n",
       "        text-align: right;\n",
       "    }\n",
       "</style>\n",
       "<table border=\"1\" class=\"dataframe\">\n",
       "  <thead>\n",
       "    <tr style=\"text-align: right;\">\n",
       "      <th></th>\n",
       "      <th>Unnamed: 0</th>\n",
       "      <th>(R$ Milhões)</th>\n",
       "      <th>Var(%)</th>\n",
       "    </tr>\n",
       "  </thead>\n",
       "  <tbody>\n",
       "    <tr>\n",
       "      <th>0</th>\n",
       "      <td>Empréstimos, Financiamentos e Debêntures</td>\n",
       "      <td>NaN</td>\n",
       "      <td>NaN</td>\n",
       "    </tr>\n",
       "    <tr>\n",
       "      <th>1</th>\n",
       "      <td>Circulante</td>\n",
       "      <td>103,3</td>\n",
       "      <td>-80,0%</td>\n",
       "    </tr>\n",
       "    <tr>\n",
       "      <th>2</th>\n",
       "      <td>Não circulante</td>\n",
       "      <td>787,4</td>\n",
       "      <td>106,4%</td>\n",
       "    </tr>\n",
       "    <tr>\n",
       "      <th>3</th>\n",
       "      <td>Endividamento Bruto</td>\n",
       "      <td>890,7</td>\n",
       "      <td>-0,7%</td>\n",
       "    </tr>\n",
       "    <tr>\n",
       "      <th>4</th>\n",
       "      <td>Caixa e equivalentes de caixa</td>\n",
       "      <td>(257,1)</td>\n",
       "      <td>-9,6%</td>\n",
       "    </tr>\n",
       "    <tr>\n",
       "      <th>5</th>\n",
       "      <td>Endividamento Líquido</td>\n",
       "      <td>633,6</td>\n",
       "      <td>NaN</td>\n",
       "    </tr>\n",
       "  </tbody>\n",
       "</table>\n",
       "</div>"
      ],
      "text/plain": [
       "                                 Unnamed: 0 (R$ Milhões)  Var(%)\n",
       "0  Empréstimos, Financiamentos e Debêntures          NaN     NaN\n",
       "1                                Circulante        103,3  -80,0%\n",
       "2                            Não circulante        787,4  106,4%\n",
       "3                       Endividamento Bruto        890,7   -0,7%\n",
       "4             Caixa e equivalentes de caixa      (257,1)   -9,6%\n",
       "5                     Endividamento Líquido        633,6     NaN"
      ]
     },
     "metadata": {},
     "output_type": "display_data"
    }
   ],
   "source": [
    "tabela_Dívida2021 = pd.read_excel(\"Aché Dívida 2021.xlsx\")\n",
    "display(tabela_Dívida2021)"
   ]
  },
  {
   "cell_type": "markdown",
   "id": "de958a73",
   "metadata": {},
   "source": [
    "# Dívida 2022"
   ]
  },
  {
   "cell_type": "code",
   "execution_count": 22,
   "id": "ffa4d1ae",
   "metadata": {},
   "outputs": [
    {
     "data": {
      "text/html": [
       "<div>\n",
       "<style scoped>\n",
       "    .dataframe tbody tr th:only-of-type {\n",
       "        vertical-align: middle;\n",
       "    }\n",
       "\n",
       "    .dataframe tbody tr th {\n",
       "        vertical-align: top;\n",
       "    }\n",
       "\n",
       "    .dataframe thead th {\n",
       "        text-align: right;\n",
       "    }\n",
       "</style>\n",
       "<table border=\"1\" class=\"dataframe\">\n",
       "  <thead>\n",
       "    <tr style=\"text-align: right;\">\n",
       "      <th></th>\n",
       "      <th>Unnamed: 0</th>\n",
       "      <th>(R$ Milhões)</th>\n",
       "      <th>Var(%)</th>\n",
       "    </tr>\n",
       "  </thead>\n",
       "  <tbody>\n",
       "    <tr>\n",
       "      <th>0</th>\n",
       "      <td>Empréstimos, Financiamentos e Debêntures</td>\n",
       "      <td>NaN</td>\n",
       "      <td>NaN</td>\n",
       "    </tr>\n",
       "    <tr>\n",
       "      <th>1</th>\n",
       "      <td>Circulante</td>\n",
       "      <td>122,1</td>\n",
       "      <td>18,2%</td>\n",
       "    </tr>\n",
       "    <tr>\n",
       "      <th>2</th>\n",
       "      <td>Não Circulante</td>\n",
       "      <td>1.163,5</td>\n",
       "      <td>47,8%</td>\n",
       "    </tr>\n",
       "    <tr>\n",
       "      <th>3</th>\n",
       "      <td>Endividamento Bruto</td>\n",
       "      <td>1.285,6</td>\n",
       "      <td>44,3%</td>\n",
       "    </tr>\n",
       "    <tr>\n",
       "      <th>4</th>\n",
       "      <td>Caixa e equivalentes de caixa</td>\n",
       "      <td>(621,5)</td>\n",
       "      <td>141,7%</td>\n",
       "    </tr>\n",
       "    <tr>\n",
       "      <th>5</th>\n",
       "      <td>Endividamento líquido</td>\n",
       "      <td>664,1</td>\n",
       "      <td>NaN</td>\n",
       "    </tr>\n",
       "  </tbody>\n",
       "</table>\n",
       "</div>"
      ],
      "text/plain": [
       "                                 Unnamed: 0 (R$ Milhões)  Var(%)\n",
       "0  Empréstimos, Financiamentos e Debêntures          NaN     NaN\n",
       "1                                Circulante        122,1   18,2%\n",
       "2                            Não Circulante      1.163,5   47,8%\n",
       "3                       Endividamento Bruto      1.285,6   44,3%\n",
       "4             Caixa e equivalentes de caixa      (621,5)  141,7%\n",
       "5                     Endividamento líquido        664,1     NaN"
      ]
     },
     "metadata": {},
     "output_type": "display_data"
    }
   ],
   "source": [
    "tabela_Dívida2022 = pd.read_excel(\"Aché Dívida 2022.xlsx\")\n",
    "display(tabela_Dívida2022)"
   ]
  },
  {
   "cell_type": "markdown",
   "id": "e739d3ac",
   "metadata": {},
   "source": [
    "# Dívida 2023 - Primeiro semestres"
   ]
  },
  {
   "cell_type": "code",
   "execution_count": 23,
   "id": "a4614204",
   "metadata": {},
   "outputs": [
    {
     "data": {
      "text/html": [
       "<div>\n",
       "<style scoped>\n",
       "    .dataframe tbody tr th:only-of-type {\n",
       "        vertical-align: middle;\n",
       "    }\n",
       "\n",
       "    .dataframe tbody tr th {\n",
       "        vertical-align: top;\n",
       "    }\n",
       "\n",
       "    .dataframe thead th {\n",
       "        text-align: right;\n",
       "    }\n",
       "</style>\n",
       "<table border=\"1\" class=\"dataframe\">\n",
       "  <thead>\n",
       "    <tr style=\"text-align: right;\">\n",
       "      <th></th>\n",
       "      <th>Unnamed: 0</th>\n",
       "      <th>(R$ Milhões)</th>\n",
       "      <th>Var(%)</th>\n",
       "    </tr>\n",
       "  </thead>\n",
       "  <tbody>\n",
       "    <tr>\n",
       "      <th>0</th>\n",
       "      <td>Empréstimos, Financiamentos e Debêntures</td>\n",
       "      <td>NaN</td>\n",
       "      <td>NaN</td>\n",
       "    </tr>\n",
       "    <tr>\n",
       "      <th>1</th>\n",
       "      <td>Circulante</td>\n",
       "      <td>143,8</td>\n",
       "      <td>17,7%</td>\n",
       "    </tr>\n",
       "    <tr>\n",
       "      <th>2</th>\n",
       "      <td>Não circulante</td>\n",
       "      <td>1.230,9</td>\n",
       "      <td>5,8%</td>\n",
       "    </tr>\n",
       "    <tr>\n",
       "      <th>3</th>\n",
       "      <td>Endividamento Bruto</td>\n",
       "      <td>1.374,7</td>\n",
       "      <td>6,9%</td>\n",
       "    </tr>\n",
       "    <tr>\n",
       "      <th>4</th>\n",
       "      <td>Caixa e equivalentes de caixa</td>\n",
       "      <td>- 237,0</td>\n",
       "      <td>-61,9%</td>\n",
       "    </tr>\n",
       "    <tr>\n",
       "      <th>5</th>\n",
       "      <td>Endividamento Líquido</td>\n",
       "      <td>1.137,7</td>\n",
       "      <td>NaN</td>\n",
       "    </tr>\n",
       "  </tbody>\n",
       "</table>\n",
       "</div>"
      ],
      "text/plain": [
       "                                 Unnamed: 0 (R$ Milhões)  Var(%)\n",
       "0  Empréstimos, Financiamentos e Debêntures          NaN     NaN\n",
       "1                                Circulante        143,8   17,7%\n",
       "2                            Não circulante      1.230,9    5,8%\n",
       "3                       Endividamento Bruto      1.374,7    6,9%\n",
       "4             Caixa e equivalentes de caixa      - 237,0  -61,9%\n",
       "5                     Endividamento Líquido      1.137,7     NaN"
      ]
     },
     "metadata": {},
     "output_type": "display_data"
    }
   ],
   "source": [
    "tabela_Dívida2023S1 = pd.read_excel(\"Aché Dívida 2023 (S1).xlsx\")\n",
    "display(tabela_Dívida2023S1)"
   ]
  },
  {
   "cell_type": "markdown",
   "id": "0b4349ac",
   "metadata": {},
   "source": [
    "# Dívida geral"
   ]
  },
  {
   "cell_type": "code",
   "execution_count": 24,
   "id": "acbf61fa",
   "metadata": {},
   "outputs": [
    {
     "data": {
      "text/html": [
       "<div>\n",
       "<style scoped>\n",
       "    .dataframe tbody tr th:only-of-type {\n",
       "        vertical-align: middle;\n",
       "    }\n",
       "\n",
       "    .dataframe tbody tr th {\n",
       "        vertical-align: top;\n",
       "    }\n",
       "\n",
       "    .dataframe thead th {\n",
       "        text-align: right;\n",
       "    }\n",
       "</style>\n",
       "<table border=\"1\" class=\"dataframe\">\n",
       "  <thead>\n",
       "    <tr style=\"text-align: right;\">\n",
       "      <th></th>\n",
       "      <th>Ano</th>\n",
       "      <th>Endividamento líquido</th>\n",
       "    </tr>\n",
       "  </thead>\n",
       "  <tbody>\n",
       "    <tr>\n",
       "      <th>0</th>\n",
       "      <td>2015</td>\n",
       "      <td>44.9</td>\n",
       "    </tr>\n",
       "    <tr>\n",
       "      <th>1</th>\n",
       "      <td>2016</td>\n",
       "      <td>38.4</td>\n",
       "    </tr>\n",
       "    <tr>\n",
       "      <th>2</th>\n",
       "      <td>2017</td>\n",
       "      <td>5.6</td>\n",
       "    </tr>\n",
       "    <tr>\n",
       "      <th>3</th>\n",
       "      <td>2018</td>\n",
       "      <td>137.6</td>\n",
       "    </tr>\n",
       "    <tr>\n",
       "      <th>4</th>\n",
       "      <td>2019</td>\n",
       "      <td>363.4</td>\n",
       "    </tr>\n",
       "    <tr>\n",
       "      <th>5</th>\n",
       "      <td>2020</td>\n",
       "      <td>612.6</td>\n",
       "    </tr>\n",
       "    <tr>\n",
       "      <th>6</th>\n",
       "      <td>2021</td>\n",
       "      <td>633.6</td>\n",
       "    </tr>\n",
       "    <tr>\n",
       "      <th>7</th>\n",
       "      <td>2022</td>\n",
       "      <td>664.1</td>\n",
       "    </tr>\n",
       "    <tr>\n",
       "      <th>8</th>\n",
       "      <td>2023</td>\n",
       "      <td>1137.7</td>\n",
       "    </tr>\n",
       "  </tbody>\n",
       "</table>\n",
       "</div>"
      ],
      "text/plain": [
       "   Ano   Endividamento líquido\n",
       "0  2015                   44.9\n",
       "1  2016                   38.4\n",
       "2  2017                    5.6\n",
       "3  2018                  137.6\n",
       "4  2019                  363.4\n",
       "5  2020                  612.6\n",
       "6  2021                  633.6\n",
       "7  2022                  664.1\n",
       "8  2023                 1137.7"
      ]
     },
     "metadata": {},
     "output_type": "display_data"
    }
   ],
   "source": [
    "tabela_DívidaGeral = pd.read_excel(\"Aché Dívida Geral.xlsx\")\n",
    "display(tabela_DívidaGeral)"
   ]
  },
  {
   "cell_type": "code",
   "execution_count": 25,
   "id": "a60ba8e1",
   "metadata": {},
   "outputs": [
    {
     "data": {
      "text/plain": [
       "<Axes: ylabel='Endividamento líquido'>"
      ]
     },
     "execution_count": 25,
     "metadata": {},
     "output_type": "execute_result"
    },
    {
     "data": {
      "image/png": "[encoded data removed]",
      "text/plain": [
       "<Figure size 640x480 with 1 Axes>"
      ]
     },
     "metadata": {},
     "output_type": "display_data"
    }
   ],
   "source": [
    "x = [2015, 2016, 2017, 2018, 2019, 2020, 2021, 2022, 2023]\n",
    "\n",
    "sns.lineplot(tabela_DívidaGeral, x=x, y=\"Endividamento líquido\", color=\"pink\")"
   ]
  }
 ],
 "metadata": {
  "kernelspec": {
   "display_name": "Python 3 (ipykernel)",
   "language": "python",
   "name": "python3"
  },
  "language_info": {
   "codemirror_mode": {
    "name": "ipython",
    "version": 3
   },
   "file_extension": ".py",
   "mimetype": "text/x-python",
   "name": "python",
   "nbconvert_exporter": "python",
   "pygments_lexer": "ipython3",
   "version": "3.10.9"
  }
 },
 "nbformat": 4,
 "nbformat_minor": 5
}
